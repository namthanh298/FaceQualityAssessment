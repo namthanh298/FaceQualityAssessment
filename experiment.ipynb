{
 "cells": [
  {
   "cell_type": "code",
   "execution_count": 1,
   "metadata": {
    "tags": []
   },
   "outputs": [],
   "source": [
    "import cv2\n",
    "import numpy as np\n",
    "from scipy.stats import kurtosis, skew\n",
    "import os\n",
    "from monolithic import calc_brisque_score, calc_ser_score, calc_niqe_score\n",
    "import random"
   ]
  },
  {
   "cell_type": "code",
   "execution_count": 2,
   "metadata": {
    "tags": []
   },
   "outputs": [],
   "source": [
    "def get_image_paths(directory):\n",
    "    \"\"\"Trả về danh sách tất cả các đường dẫn tuyệt đối của ảnh trong một thư mục (có đệ quy).\n",
    "\n",
    "    Args:\n",
    "    directory: Đường dẫn đến thư mục cần tìm kiếm.\n",
    "\n",
    "    Returns:\n",
    "    list: Danh sách các đường dẫn tuyệt đối của ảnh.\n",
    "    \"\"\"\n",
    "    image_paths = []\n",
    "    for root, _, files in os.walk(directory):\n",
    "        for file in files:\n",
    "            if file.lower().endswith(('.png', '.jpg', '.jpeg', '.gif', '.bmp')):\n",
    "                image_paths.append(os.path.abspath(os.path.join(root, file)))\n",
    "    return image_paths"
   ]
  },
  {
   "cell_type": "code",
   "execution_count": 3,
   "metadata": {
    "tags": []
   },
   "outputs": [
    {
     "data": {
      "text/plain": [
       "23105"
      ]
     },
     "execution_count": 3,
     "metadata": {},
     "output_type": "execute_result"
    }
   ],
   "source": [
    "image_paths = get_image_paths('data/VN-celeb/')\n",
    "len(image_paths)"
   ]
  },
  {
   "cell_type": "code",
   "execution_count": 8,
   "metadata": {},
   "outputs": [
    {
     "name": "stdout",
     "output_type": "stream",
     "text": [
      "e:\\MY_PROJECT\\FaceQualityAssessment\\data\\VN-celeb\\476\\24.png\n",
      "81.65982518609027\n",
      "e:\\MY_PROJECT\\FaceQualityAssessment\\data\\VN-celeb\\678\\14.png\n",
      "324.65906480138375\n",
      "e:\\MY_PROJECT\\FaceQualityAssessment\\data\\VN-celeb\\497\\27.png\n",
      "355.62924733276543\n",
      "e:\\MY_PROJECT\\FaceQualityAssessment\\data\\VN-celeb\\331\\2.png\n",
      "331.7400459074892\n",
      "e:\\MY_PROJECT\\FaceQualityAssessment\\data\\VN-celeb\\496\\26.png\n",
      "335.1420130677733\n"
     ]
    }
   ],
   "source": [
    "image_samples = random.sample(image_paths, k=5)\n",
    "serfiq_scores = []\n",
    "\n",
    "for sample in image_samples:\n",
    "    print(sample)\n",
    "    img = cv2.imread(sample)\n",
    "    serfiq_scores.append(calc_niqe_score(img))"
   ]
  },
  {
   "cell_type": "code",
   "execution_count": 5,
   "metadata": {},
   "outputs": [
    {
     "data": {
      "text/plain": [
       "[0, 0, 0, 0, 0]"
      ]
     },
     "execution_count": 5,
     "metadata": {},
     "output_type": "execute_result"
    }
   ],
   "source": [
    "serfiq_scores"
   ]
  },
  {
   "cell_type": "code",
   "execution_count": null,
   "metadata": {},
   "outputs": [],
   "source": []
  }
 ],
 "metadata": {
  "kernelspec": {
   "display_name": "Python 3 (ipykernel)",
   "language": "python",
   "name": "python3"
  },
  "language_info": {
   "codemirror_mode": {
    "name": "ipython",
    "version": 3
   },
   "file_extension": ".py",
   "mimetype": "text/x-python",
   "name": "python",
   "nbconvert_exporter": "python",
   "pygments_lexer": "ipython3",
   "version": "3.11.5"
  }
 },
 "nbformat": 4,
 "nbformat_minor": 4
}
